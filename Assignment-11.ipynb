{
 "cells": [
  {
   "cell_type": "code",
   "execution_count": 15,
   "metadata": {},
   "outputs": [],
   "source": [
    "import pandas as pd\n",
    "import numpy as np\n",
    "import matplotlib.pyplot as plt\n",
    "import seaborn as sns\n",
    "from sklearn import preprocessing\n",
    "from sklearn.datasets import load_digits\n",
    "from sklearn.model_selection import train_test_split\n",
    "from sklearn.neighbors import *"
   ]
  },
  {
   "cell_type": "code",
   "execution_count": 16,
   "metadata": {},
   "outputs": [],
   "source": [
    "digit = load_digits()\n",
    "x = digit.data\n",
    "y = digit.target"
   ]
  },
  {
   "cell_type": "code",
   "execution_count": 17,
   "metadata": {},
   "outputs": [
    {
     "data": {
      "text/plain": [
       "((1797, 64), (1797,))"
      ]
     },
     "execution_count": 17,
     "metadata": {},
     "output_type": "execute_result"
    }
   ],
   "source": [
    "x.shape, y.shape"
   ]
  },
  {
   "cell_type": "markdown",
   "metadata": {},
   "source": [
    "# Dataset is spliting into the training and testing sets"
   ]
  },
  {
   "cell_type": "code",
   "execution_count": 18,
   "metadata": {},
   "outputs": [],
   "source": [
    "X_train,X_test,y_train,y_test = train_test_split(x,y,test_size = 0.3)"
   ]
  },
  {
   "cell_type": "markdown",
   "metadata": {},
   "source": [
    "# Key Nearest Neighbors  "
   ]
  },
  {
   "cell_type": "code",
   "execution_count": 19,
   "metadata": {},
   "outputs": [],
   "source": [
    "keynn = KNeighborsClassifier(n_neighbors = 2)"
   ]
  },
  {
   "cell_type": "code",
   "execution_count": 20,
   "metadata": {},
   "outputs": [
    {
     "data": {
      "text/plain": [
       "KNeighborsClassifier(algorithm='auto', leaf_size=30, metric='minkowski',\n",
       "           metric_params=None, n_jobs=1, n_neighbors=2, p=2,\n",
       "           weights='uniform')"
      ]
     },
     "execution_count": 20,
     "metadata": {},
     "output_type": "execute_result"
    }
   ],
   "source": [
    "keynn.fit(X_train,y_train)"
   ]
  },
  {
   "cell_type": "code",
   "execution_count": 21,
   "metadata": {},
   "outputs": [],
   "source": [
    "pred = keynn.predict(X_test)"
   ]
  },
  {
   "cell_type": "code",
   "execution_count": 22,
   "metadata": {},
   "outputs": [
    {
     "data": {
      "text/plain": [
       "array([0, 1, 5, 1, 2, 6, 1, 0, 1, 4, 6, 7, 6, 4, 8, 9, 9, 1, 6, 9, 9, 6,\n",
       "       7, 0, 2, 1, 0, 6, 7, 6, 4, 8, 1, 7, 7, 3, 3, 7, 3, 5, 1, 1, 6, 3,\n",
       "       7, 8, 9, 9, 6, 8, 2, 2, 2, 8, 3, 0, 7, 8, 7, 3, 1, 5, 4, 2, 3, 5,\n",
       "       6, 3, 4, 0, 5, 5, 3, 5, 3, 0, 8, 3, 6, 8, 7, 8, 9, 7, 4, 9, 2, 2,\n",
       "       5, 1, 8, 2, 7, 5, 1, 6, 1, 4, 3, 8, 1, 3, 0, 4, 8, 9, 6, 7, 7, 0,\n",
       "       0, 5, 1, 0, 7, 0, 3, 5, 3, 7, 7, 3, 9, 5, 8, 4, 4, 6, 4, 4, 9, 5,\n",
       "       4, 2, 1, 2, 8, 1, 4, 1, 6, 8, 8, 6, 3, 3, 2, 0, 0, 0, 7, 1, 3, 1,\n",
       "       1, 3, 7, 4, 3, 5, 9, 8, 5, 5, 1, 2, 7, 2, 2, 7, 7, 5, 9, 7, 4, 3,\n",
       "       0, 5, 0, 0, 6, 9, 3, 6, 0, 4, 3, 9, 9, 5, 5, 4, 5, 1, 3, 6, 2, 6,\n",
       "       3, 4, 5, 6, 6, 1, 8, 9, 6, 1, 4, 6, 9, 2, 6, 4, 4, 1, 5, 5, 2, 9,\n",
       "       5, 4, 3, 0, 1, 1, 1, 3, 2, 9, 3, 1, 5, 8, 2, 7, 0, 9, 3, 1, 1, 3,\n",
       "       6, 7, 4, 0, 4, 9, 1, 6, 1, 4, 4, 9, 0, 3, 0, 8, 7, 4, 1, 0, 3, 2,\n",
       "       1, 4, 5, 8, 5, 6, 4, 7, 8, 9, 9, 7, 7, 9, 3, 6, 9, 7, 6, 2, 5, 1,\n",
       "       7, 1, 1, 2, 8, 3, 6, 0, 7, 9, 0, 7, 0, 6, 6, 0, 7, 9, 5, 0, 0, 4,\n",
       "       0, 9, 1, 8, 0, 4, 3, 7, 4, 9, 3, 2, 7, 6, 1, 6, 3, 2, 6, 3, 2, 1,\n",
       "       8, 3, 6, 0, 5, 1, 3, 0, 8, 6, 2, 7, 0, 8, 2, 2, 3, 5, 9, 9, 0, 5,\n",
       "       8, 3, 1, 2, 4, 9, 9, 8, 7, 6, 3, 1, 6, 5, 6, 8, 7, 4, 2, 4, 6, 1,\n",
       "       3, 5, 7, 3, 4, 0, 0, 2, 9, 2, 7, 5, 8, 5, 4, 8, 1, 3, 5, 8, 4, 3,\n",
       "       8, 5, 6, 7, 7, 5, 2, 3, 2, 3, 7, 3, 4, 7, 1, 1, 3, 5, 6, 8, 4, 1,\n",
       "       2, 9, 1, 3, 4, 4, 2, 4, 8, 8, 9, 9, 1, 8, 2, 1, 7, 9, 0, 9, 2, 4,\n",
       "       8, 5, 1, 2, 5, 6, 6, 4, 1, 2, 3, 4, 3, 7, 1, 7, 9, 5, 8, 0, 8, 2,\n",
       "       7, 4, 6, 9, 1, 8, 1, 6, 1, 0, 6, 9, 5, 1, 7, 3, 8, 2, 8, 6, 3, 3,\n",
       "       7, 1, 1, 6, 3, 0, 7, 7, 3, 9, 8, 0, 0, 4, 3, 4, 8, 2, 9, 1, 3, 7,\n",
       "       9, 7, 8, 3, 6, 4, 9, 5, 2, 0, 8, 5, 2, 8, 9, 5, 8, 4, 5, 2, 0, 4,\n",
       "       2, 1, 4, 0, 9, 3, 2, 0, 1, 8, 3, 9])"
      ]
     },
     "execution_count": 22,
     "metadata": {},
     "output_type": "execute_result"
    }
   ],
   "source": [
    "pred"
   ]
  },
  {
   "cell_type": "code",
   "execution_count": 23,
   "metadata": {},
   "outputs": [],
   "source": [
    "result = pd.DataFrame({\"Predicted\":pred,\"Actual\":y_test})"
   ]
  },
  {
   "cell_type": "code",
   "execution_count": 24,
   "metadata": {},
   "outputs": [
    {
     "data": {
      "text/html": [
       "<div>\n",
       "<style scoped>\n",
       "    .dataframe tbody tr th:only-of-type {\n",
       "        vertical-align: middle;\n",
       "    }\n",
       "\n",
       "    .dataframe tbody tr th {\n",
       "        vertical-align: top;\n",
       "    }\n",
       "\n",
       "    .dataframe thead th {\n",
       "        text-align: right;\n",
       "    }\n",
       "</style>\n",
       "<table border=\"1\" class=\"dataframe\">\n",
       "  <thead>\n",
       "    <tr style=\"text-align: right;\">\n",
       "      <th></th>\n",
       "      <th>Predicted</th>\n",
       "      <th>Actual</th>\n",
       "    </tr>\n",
       "  </thead>\n",
       "  <tbody>\n",
       "    <tr>\n",
       "      <th>0</th>\n",
       "      <td>0</td>\n",
       "      <td>0</td>\n",
       "    </tr>\n",
       "    <tr>\n",
       "      <th>1</th>\n",
       "      <td>1</td>\n",
       "      <td>1</td>\n",
       "    </tr>\n",
       "    <tr>\n",
       "      <th>2</th>\n",
       "      <td>5</td>\n",
       "      <td>5</td>\n",
       "    </tr>\n",
       "    <tr>\n",
       "      <th>3</th>\n",
       "      <td>1</td>\n",
       "      <td>1</td>\n",
       "    </tr>\n",
       "    <tr>\n",
       "      <th>4</th>\n",
       "      <td>2</td>\n",
       "      <td>2</td>\n",
       "    </tr>\n",
       "  </tbody>\n",
       "</table>\n",
       "</div>"
      ],
      "text/plain": [
       "   Predicted  Actual\n",
       "0          0       0\n",
       "1          1       1\n",
       "2          5       5\n",
       "3          1       1\n",
       "4          2       2"
      ]
     },
     "execution_count": 24,
     "metadata": {},
     "output_type": "execute_result"
    }
   ],
   "source": [
    "result.head()"
   ]
  },
  {
   "cell_type": "markdown",
   "metadata": {},
   "source": [
    "# Key Nearest Neighbors Score"
   ]
  },
  {
   "cell_type": "code",
   "execution_count": 25,
   "metadata": {},
   "outputs": [
    {
     "data": {
      "text/plain": [
       "97.5925925925926"
      ]
     },
     "execution_count": 25,
     "metadata": {},
     "output_type": "execute_result"
    }
   ],
   "source": [
    "keynn.score(X_test,y_test)*100"
   ]
  },
  {
   "cell_type": "code",
   "execution_count": null,
   "metadata": {},
   "outputs": [],
   "source": []
  }
 ],
 "metadata": {
  "kernelspec": {
   "display_name": "Python 3",
   "language": "python",
   "name": "python3"
  },
  "language_info": {
   "codemirror_mode": {
    "name": "ipython",
    "version": 3
   },
   "file_extension": ".py",
   "mimetype": "text/x-python",
   "name": "python",
   "nbconvert_exporter": "python",
   "pygments_lexer": "ipython3",
   "version": "3.6.5"
  }
 },
 "nbformat": 4,
 "nbformat_minor": 2
}
