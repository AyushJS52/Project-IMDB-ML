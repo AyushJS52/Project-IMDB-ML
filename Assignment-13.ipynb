{
 "cells": [
  {
   "cell_type": "code",
   "execution_count": 1,
   "metadata": {},
   "outputs": [],
   "source": [
    "import pandas as pd\n",
    "from sklearn.datasets import load_digits\n",
    "from sklearn.model_selection import train_test_split\n",
    "from sklearn.svm import SVC\n",
    "from sklearn import metrics\n",
    "from sklearn.metrics import classification_report\n",
    "from sklearn.metrics import confusion_matrix"
   ]
  },
  {
   "cell_type": "code",
   "execution_count": 2,
   "metadata": {},
   "outputs": [],
   "source": [
    "dt = load_digits()"
   ]
  },
  {
   "cell_type": "code",
   "execution_count": 3,
   "metadata": {},
   "outputs": [],
   "source": [
    "x = dt.data\n",
    "y = dt.target"
   ]
  },
  {
   "cell_type": "code",
   "execution_count": 4,
   "metadata": {},
   "outputs": [],
   "source": [
    "X_train,X_test,y_train,y_test = train_test_split(x,y,test_size = 0.3)"
   ]
  },
  {
   "cell_type": "markdown",
   "metadata": {},
   "source": [
    "## kernel with using linear"
   ]
  },
  {
   "cell_type": "code",
   "execution_count": 10,
   "metadata": {},
   "outputs": [],
   "source": [
    "svc = SVC(kernel = 'linear')"
   ]
  },
  {
   "cell_type": "code",
   "execution_count": 11,
   "metadata": {},
   "outputs": [
    {
     "data": {
      "text/plain": [
       "SVC(C=1.0, cache_size=200, class_weight=None, coef0=0.0,\n",
       "  decision_function_shape='ovr', degree=3, gamma='auto', kernel='linear',\n",
       "  max_iter=-1, probability=False, random_state=None, shrinking=True,\n",
       "  tol=0.001, verbose=False)"
      ]
     },
     "execution_count": 11,
     "metadata": {},
     "output_type": "execute_result"
    }
   ],
   "source": [
    "svc.fit(X_train, y_train)"
   ]
  },
  {
   "cell_type": "code",
   "execution_count": 12,
   "metadata": {},
   "outputs": [],
   "source": [
    "predict = svc.predict(X_test)"
   ]
  },
  {
   "cell_type": "code",
   "execution_count": 16,
   "metadata": {},
   "outputs": [
    {
     "name": "stdout",
     "output_type": "stream",
     "text": [
      "[[56  0  0  0  0  0  0  0  0  0]\n",
      " [ 0 60  0  0  0  0  0  0  0  0]\n",
      " [ 0  0 57  0  0  0  0  0  0  0]\n",
      " [ 0  0  0 42  0  0  0  0  1  0]\n",
      " [ 0  0  0  0 55  0  0  1  0  0]\n",
      " [ 0  0  0  0  0 45  0  0  0  2]\n",
      " [ 0  0  0  0  0  0 51  0  1  0]\n",
      " [ 0  0  0  0  0  0  0 52  0  0]\n",
      " [ 0  3  1  0  1  0  0  1 63  0]\n",
      " [ 0  0  0  1  1  1  0  0  1 44]]\n"
     ]
    }
   ],
   "source": [
    "print(confusion_matrix(y_test,predict))"
   ]
  },
  {
   "cell_type": "code",
   "execution_count": 17,
   "metadata": {},
   "outputs": [
    {
     "name": "stdout",
     "output_type": "stream",
     "text": [
      "             precision    recall  f1-score   support\n",
      "\n",
      "          0       1.00      1.00      1.00        56\n",
      "          1       0.95      1.00      0.98        60\n",
      "          2       0.98      1.00      0.99        57\n",
      "          3       0.98      0.98      0.98        43\n",
      "          4       0.96      0.98      0.97        56\n",
      "          5       0.98      0.96      0.97        47\n",
      "          6       1.00      0.98      0.99        52\n",
      "          7       0.96      1.00      0.98        52\n",
      "          8       0.95      0.91      0.93        69\n",
      "          9       0.96      0.92      0.94        48\n",
      "\n",
      "avg / total       0.97      0.97      0.97       540\n",
      "\n"
     ]
    }
   ],
   "source": [
    "print(classification_report(y_test, predict))"
   ]
  },
  {
   "cell_type": "code",
   "execution_count": 18,
   "metadata": {},
   "outputs": [
    {
     "data": {
      "text/plain": [
       "97.22222222222221"
      ]
     },
     "execution_count": 18,
     "metadata": {},
     "output_type": "execute_result"
    }
   ],
   "source": [
    "metrics.accuracy_score(y_test,predict)*100"
   ]
  },
  {
   "cell_type": "markdown",
   "metadata": {},
   "source": [
    "## Kernel with using polynomial"
   ]
  },
  {
   "cell_type": "code",
   "execution_count": 20,
   "metadata": {},
   "outputs": [],
   "source": [
    "svcc = SVC(kernel = 'poly')"
   ]
  },
  {
   "cell_type": "code",
   "execution_count": 21,
   "metadata": {},
   "outputs": [
    {
     "data": {
      "text/plain": [
       "SVC(C=1.0, cache_size=200, class_weight=None, coef0=0.0,\n",
       "  decision_function_shape='ovr', degree=3, gamma='auto', kernel='poly',\n",
       "  max_iter=-1, probability=False, random_state=None, shrinking=True,\n",
       "  tol=0.001, verbose=False)"
      ]
     },
     "execution_count": 21,
     "metadata": {},
     "output_type": "execute_result"
    }
   ],
   "source": [
    "svcc.fit(X_train, y_train)"
   ]
  },
  {
   "cell_type": "code",
   "execution_count": 22,
   "metadata": {},
   "outputs": [],
   "source": [
    "predict1 = svcc.predict(X_test)"
   ]
  },
  {
   "cell_type": "code",
   "execution_count": 23,
   "metadata": {},
   "outputs": [
    {
     "name": "stdout",
     "output_type": "stream",
     "text": [
      "[[56  0  0  0  0  0  0  0  0  0]\n",
      " [ 0 60  0  0  0  0  0  0  0  0]\n",
      " [ 0  0 57  0  0  0  0  0  0  0]\n",
      " [ 0  0  1 42  0  0  0  0  0  0]\n",
      " [ 0  0  0  0 55  0  0  1  0  0]\n",
      " [ 0  0  0  0  0 44  1  0  0  2]\n",
      " [ 1  0  0  0  0  0 51  0  0  0]\n",
      " [ 0  0  0  0  0  0  0 52  0  0]\n",
      " [ 0  1  0  0  0  0  0  0 68  0]\n",
      " [ 0  0  0  0  0  1  0  0  0 47]]\n"
     ]
    }
   ],
   "source": [
    "print(confusion_matrix(y_test,predict1))"
   ]
  },
  {
   "cell_type": "code",
   "execution_count": 24,
   "metadata": {},
   "outputs": [
    {
     "name": "stdout",
     "output_type": "stream",
     "text": [
      "             precision    recall  f1-score   support\n",
      "\n",
      "          0       0.98      1.00      0.99        56\n",
      "          1       0.98      1.00      0.99        60\n",
      "          2       0.98      1.00      0.99        57\n",
      "          3       1.00      0.98      0.99        43\n",
      "          4       1.00      0.98      0.99        56\n",
      "          5       0.98      0.94      0.96        47\n",
      "          6       0.98      0.98      0.98        52\n",
      "          7       0.98      1.00      0.99        52\n",
      "          8       1.00      0.99      0.99        69\n",
      "          9       0.96      0.98      0.97        48\n",
      "\n",
      "avg / total       0.99      0.99      0.99       540\n",
      "\n"
     ]
    }
   ],
   "source": [
    "print(classification_report(y_test,predict1))"
   ]
  },
  {
   "cell_type": "code",
   "execution_count": 25,
   "metadata": {},
   "outputs": [
    {
     "data": {
      "text/plain": [
       "98.51851851851852"
      ]
     },
     "execution_count": 25,
     "metadata": {},
     "output_type": "execute_result"
    }
   ],
   "source": [
    "metrics.accuracy_score(y_test,predict1)*100"
   ]
  },
  {
   "cell_type": "markdown",
   "metadata": {},
   "source": [
    "## Kernel with using Gaussian"
   ]
  },
  {
   "cell_type": "code",
   "execution_count": 31,
   "metadata": {},
   "outputs": [],
   "source": [
    "svccc = SVC(kernel = 'rbf')"
   ]
  },
  {
   "cell_type": "code",
   "execution_count": 32,
   "metadata": {},
   "outputs": [
    {
     "data": {
      "text/plain": [
       "SVC(C=1.0, cache_size=200, class_weight=None, coef0=0.0,\n",
       "  decision_function_shape='ovr', degree=3, gamma='auto', kernel='rbf',\n",
       "  max_iter=-1, probability=False, random_state=None, shrinking=True,\n",
       "  tol=0.001, verbose=False)"
      ]
     },
     "execution_count": 32,
     "metadata": {},
     "output_type": "execute_result"
    }
   ],
   "source": [
    "svccc.fit(X_train, y_train)"
   ]
  },
  {
   "cell_type": "code",
   "execution_count": 33,
   "metadata": {},
   "outputs": [],
   "source": [
    "predict2 = svccc.predict(X_test)"
   ]
  },
  {
   "cell_type": "code",
   "execution_count": 34,
   "metadata": {},
   "outputs": [
    {
     "name": "stdout",
     "output_type": "stream",
     "text": [
      "[[22  0  0 34  0  0  0  0  0  0]\n",
      " [ 0 18  0 42  0  0  0  0  0  0]\n",
      " [ 0  0  9 48  0  0  0  0  0  0]\n",
      " [ 0  0  0 43  0  0  0  0  0  0]\n",
      " [ 0  0  0 40 16  0  0  0  0  0]\n",
      " [ 0  0  0 26  0 21  0  0  0  0]\n",
      " [ 0  0  0 32  0  0 20  0  0  0]\n",
      " [ 0  0  0 41  0  0  0 11  0  0]\n",
      " [ 0  0  0 69  0  0  0  0  0  0]\n",
      " [ 0  0  0 31  0  0  0  0  0 17]]\n"
     ]
    }
   ],
   "source": [
    "print(confusion_matrix(y_test,predict2))"
   ]
  },
  {
   "cell_type": "code",
   "execution_count": 36,
   "metadata": {},
   "outputs": [
    {
     "name": "stdout",
     "output_type": "stream",
     "text": [
      "             precision    recall  f1-score   support\n",
      "\n",
      "          0       1.00      0.39      0.56        56\n",
      "          1       1.00      0.30      0.46        60\n",
      "          2       1.00      0.16      0.27        57\n",
      "          3       0.11      1.00      0.19        43\n",
      "          4       1.00      0.29      0.44        56\n",
      "          5       1.00      0.45      0.62        47\n",
      "          6       1.00      0.38      0.56        52\n",
      "          7       1.00      0.21      0.35        52\n",
      "          8       0.00      0.00      0.00        69\n",
      "          9       1.00      0.35      0.52        48\n",
      "\n",
      "avg / total       0.80      0.33      0.39       540\n",
      "\n"
     ]
    },
    {
     "name": "stderr",
     "output_type": "stream",
     "text": [
      "C:\\ProgramData\\Anaconda3\\lib\\site-packages\\sklearn\\metrics\\classification.py:1135: UndefinedMetricWarning: Precision and F-score are ill-defined and being set to 0.0 in labels with no predicted samples.\n",
      "  'precision', 'predicted', average, warn_for)\n"
     ]
    }
   ],
   "source": [
    "print(classification_report(y_test, predict2))"
   ]
  },
  {
   "cell_type": "code",
   "execution_count": 37,
   "metadata": {},
   "outputs": [
    {
     "data": {
      "text/plain": [
       "32.77777777777778"
      ]
     },
     "execution_count": 37,
     "metadata": {},
     "output_type": "execute_result"
    }
   ],
   "source": [
    "metrics.accuracy_score(y_test,predict2)*100"
   ]
  },
  {
   "cell_type": "markdown",
   "metadata": {},
   "source": [
    "## Kernel with using Sigmoid"
   ]
  },
  {
   "cell_type": "code",
   "execution_count": 38,
   "metadata": {},
   "outputs": [],
   "source": [
    "svc2 = SVC(kernel = 'sigmoid')"
   ]
  },
  {
   "cell_type": "code",
   "execution_count": 39,
   "metadata": {},
   "outputs": [
    {
     "data": {
      "text/plain": [
       "SVC(C=1.0, cache_size=200, class_weight=None, coef0=0.0,\n",
       "  decision_function_shape='ovr', degree=3, gamma='auto', kernel='sigmoid',\n",
       "  max_iter=-1, probability=False, random_state=None, shrinking=True,\n",
       "  tol=0.001, verbose=False)"
      ]
     },
     "execution_count": 39,
     "metadata": {},
     "output_type": "execute_result"
    }
   ],
   "source": [
    "svc2.fit(X_train, y_train)"
   ]
  },
  {
   "cell_type": "code",
   "execution_count": 40,
   "metadata": {},
   "outputs": [],
   "source": [
    "predict3 = svc2.predict(X_test)"
   ]
  },
  {
   "cell_type": "code",
   "execution_count": 41,
   "metadata": {},
   "outputs": [
    {
     "name": "stdout",
     "output_type": "stream",
     "text": [
      "[[ 0  0  0 56  0  0  0  0  0  0]\n",
      " [ 0  0  0 60  0  0  0  0  0  0]\n",
      " [ 0  0  0 57  0  0  0  0  0  0]\n",
      " [ 0  0  0 43  0  0  0  0  0  0]\n",
      " [ 0  0  0 56  0  0  0  0  0  0]\n",
      " [ 0  0  0 47  0  0  0  0  0  0]\n",
      " [ 0  0  0 52  0  0  0  0  0  0]\n",
      " [ 0  0  0 52  0  0  0  0  0  0]\n",
      " [ 0  0  0 69  0  0  0  0  0  0]\n",
      " [ 0  0  0 48  0  0  0  0  0  0]]\n"
     ]
    }
   ],
   "source": [
    "print(confusion_matrix(y_test,predict3))"
   ]
  },
  {
   "cell_type": "code",
   "execution_count": 42,
   "metadata": {},
   "outputs": [
    {
     "name": "stdout",
     "output_type": "stream",
     "text": [
      "             precision    recall  f1-score   support\n",
      "\n",
      "          0       0.00      0.00      0.00        56\n",
      "          1       0.00      0.00      0.00        60\n",
      "          2       0.00      0.00      0.00        57\n",
      "          3       0.08      1.00      0.15        43\n",
      "          4       0.00      0.00      0.00        56\n",
      "          5       0.00      0.00      0.00        47\n",
      "          6       0.00      0.00      0.00        52\n",
      "          7       0.00      0.00      0.00        52\n",
      "          8       0.00      0.00      0.00        69\n",
      "          9       0.00      0.00      0.00        48\n",
      "\n",
      "avg / total       0.01      0.08      0.01       540\n",
      "\n"
     ]
    },
    {
     "name": "stderr",
     "output_type": "stream",
     "text": [
      "C:\\ProgramData\\Anaconda3\\lib\\site-packages\\sklearn\\metrics\\classification.py:1135: UndefinedMetricWarning: Precision and F-score are ill-defined and being set to 0.0 in labels with no predicted samples.\n",
      "  'precision', 'predicted', average, warn_for)\n"
     ]
    }
   ],
   "source": [
    "print(metrics.classification_report(y_test, predict3))"
   ]
  },
  {
   "cell_type": "code",
   "execution_count": 43,
   "metadata": {},
   "outputs": [
    {
     "data": {
      "text/plain": [
       "7.962962962962964"
      ]
     },
     "execution_count": 43,
     "metadata": {},
     "output_type": "execute_result"
    }
   ],
   "source": [
    "metrics.accuracy_score(y_test,predict3)*100"
   ]
  },
  {
   "cell_type": "code",
   "execution_count": null,
   "metadata": {},
   "outputs": [],
   "source": []
  }
 ],
 "metadata": {
  "kernelspec": {
   "display_name": "Python 3",
   "language": "python",
   "name": "python3"
  },
  "language_info": {
   "codemirror_mode": {
    "name": "ipython",
    "version": 3
   },
   "file_extension": ".py",
   "mimetype": "text/x-python",
   "name": "python",
   "nbconvert_exporter": "python",
   "pygments_lexer": "ipython3",
   "version": "3.6.5"
  }
 },
 "nbformat": 4,
 "nbformat_minor": 2
}
